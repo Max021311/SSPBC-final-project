{
 "cells": [
  {
   "cell_type": "markdown",
   "id": "b7c4a6c4-2b1a-40ae-97bc-8fdf885413e2",
   "metadata": {},
   "source": [
    "Se importan las siguiente librerías:\n",
    "- pandas: para poder cargar el dataset\n",
    "- numpy: para poder manipular los arreglos y usar vectorización\n",
    "- matplotlib: para graficar\n",
    "- sklearn: para poder usar el label encoding, estandarizar, one-hot encoding y calcular las métricas"
   ]
  },
  {
   "cell_type": "code",
   "execution_count": 14,
   "id": "51fe60df-21fe-4323-bf72-1fa3e9e4ee18",
   "metadata": {},
   "outputs": [],
   "source": [
    "import pandas as pd\n",
    "import numpy as np\n",
    "import matplotlib.pyplot as plt\n",
    "from sklearn.preprocessing import LabelEncoder, StandardScaler, OneHotEncoder\n",
    "from sklearn.metrics import accuracy_score, precision_score, f1_score, recall_score"
   ]
  },
  {
   "cell_type": "markdown",
   "id": "bd8699e3-95ee-4fce-874a-2360f8dc6e4a",
   "metadata": {},
   "source": [
    "Se cargan los datos del dataset."
   ]
  },
  {
   "cell_type": "code",
   "execution_count": 15,
   "id": "112eb84e-3561-433a-9897-997647cfbe54",
   "metadata": {},
   "outputs": [
    {
     "data": {
      "text/html": [
       "<div>\n",
       "<style scoped>\n",
       "    .dataframe tbody tr th:only-of-type {\n",
       "        vertical-align: middle;\n",
       "    }\n",
       "\n",
       "    .dataframe tbody tr th {\n",
       "        vertical-align: top;\n",
       "    }\n",
       "\n",
       "    .dataframe thead th {\n",
       "        text-align: right;\n",
       "    }\n",
       "</style>\n",
       "<table border=\"1\" class=\"dataframe\">\n",
       "  <thead>\n",
       "    <tr style=\"text-align: right;\">\n",
       "      <th></th>\n",
       "      <th>age</th>\n",
       "      <th>sex</th>\n",
       "      <th>cp</th>\n",
       "      <th>trtbps</th>\n",
       "      <th>chol</th>\n",
       "      <th>fbs</th>\n",
       "      <th>restecg</th>\n",
       "      <th>thalachh</th>\n",
       "      <th>exng</th>\n",
       "      <th>oldpeak</th>\n",
       "      <th>slp</th>\n",
       "      <th>caa</th>\n",
       "      <th>thall</th>\n",
       "      <th>output</th>\n",
       "    </tr>\n",
       "  </thead>\n",
       "  <tbody>\n",
       "    <tr>\n",
       "      <th>0</th>\n",
       "      <td>63</td>\n",
       "      <td>1</td>\n",
       "      <td>3</td>\n",
       "      <td>145</td>\n",
       "      <td>233</td>\n",
       "      <td>1</td>\n",
       "      <td>0</td>\n",
       "      <td>150</td>\n",
       "      <td>0</td>\n",
       "      <td>2.3</td>\n",
       "      <td>0</td>\n",
       "      <td>0</td>\n",
       "      <td>1</td>\n",
       "      <td>1</td>\n",
       "    </tr>\n",
       "    <tr>\n",
       "      <th>1</th>\n",
       "      <td>37</td>\n",
       "      <td>1</td>\n",
       "      <td>2</td>\n",
       "      <td>130</td>\n",
       "      <td>250</td>\n",
       "      <td>0</td>\n",
       "      <td>1</td>\n",
       "      <td>187</td>\n",
       "      <td>0</td>\n",
       "      <td>3.5</td>\n",
       "      <td>0</td>\n",
       "      <td>0</td>\n",
       "      <td>2</td>\n",
       "      <td>1</td>\n",
       "    </tr>\n",
       "    <tr>\n",
       "      <th>2</th>\n",
       "      <td>41</td>\n",
       "      <td>0</td>\n",
       "      <td>1</td>\n",
       "      <td>130</td>\n",
       "      <td>204</td>\n",
       "      <td>0</td>\n",
       "      <td>0</td>\n",
       "      <td>172</td>\n",
       "      <td>0</td>\n",
       "      <td>1.4</td>\n",
       "      <td>2</td>\n",
       "      <td>0</td>\n",
       "      <td>2</td>\n",
       "      <td>1</td>\n",
       "    </tr>\n",
       "    <tr>\n",
       "      <th>3</th>\n",
       "      <td>56</td>\n",
       "      <td>1</td>\n",
       "      <td>1</td>\n",
       "      <td>120</td>\n",
       "      <td>236</td>\n",
       "      <td>0</td>\n",
       "      <td>1</td>\n",
       "      <td>178</td>\n",
       "      <td>0</td>\n",
       "      <td>0.8</td>\n",
       "      <td>2</td>\n",
       "      <td>0</td>\n",
       "      <td>2</td>\n",
       "      <td>1</td>\n",
       "    </tr>\n",
       "    <tr>\n",
       "      <th>4</th>\n",
       "      <td>57</td>\n",
       "      <td>0</td>\n",
       "      <td>0</td>\n",
       "      <td>120</td>\n",
       "      <td>354</td>\n",
       "      <td>0</td>\n",
       "      <td>1</td>\n",
       "      <td>163</td>\n",
       "      <td>1</td>\n",
       "      <td>0.6</td>\n",
       "      <td>2</td>\n",
       "      <td>0</td>\n",
       "      <td>2</td>\n",
       "      <td>1</td>\n",
       "    </tr>\n",
       "  </tbody>\n",
       "</table>\n",
       "</div>"
      ],
      "text/plain": [
       "   age  sex  cp  trtbps  chol  fbs  restecg  thalachh  exng  oldpeak  slp  \\\n",
       "0   63    1   3     145   233    1        0       150     0      2.3    0   \n",
       "1   37    1   2     130   250    0        1       187     0      3.5    0   \n",
       "2   41    0   1     130   204    0        0       172     0      1.4    2   \n",
       "3   56    1   1     120   236    0        1       178     0      0.8    2   \n",
       "4   57    0   0     120   354    0        1       163     1      0.6    2   \n",
       "\n",
       "   caa  thall  output  \n",
       "0    0      1       1  \n",
       "1    0      2       1  \n",
       "2    0      2       1  \n",
       "3    0      2       1  \n",
       "4    0      2       1  "
      ]
     },
     "execution_count": 15,
     "metadata": {},
     "output_type": "execute_result"
    }
   ],
   "source": [
    "df = pd.read_csv('heart.csv')\n",
    "df.head()"
   ]
  },
  {
   "cell_type": "markdown",
   "id": "2606e505-07a5-4601-8250-3fca4b45588d",
   "metadata": {},
   "source": [
    "Función para dividir el datasaet en subconjuntos."
   ]
  },
  {
   "cell_type": "code",
   "execution_count": 16,
   "id": "e85f4492-db09-4d3a-92ff-dc24f5e9fd57",
   "metadata": {},
   "outputs": [],
   "source": [
    "def validate(partitions: tuple[int, ...], X = np.array, Y = np.array):\n",
    "  assert type(partitions) == tuple, 'Partitions must be a tuple of ints'\n",
    "  assert sum(partitions) == 100, 'Sum of paritions must be 100'\n",
    "  assert type(X) == np.ndarray, 'X must be a NDArray'\n",
    "  assert type(Y) == np.ndarray, 'X must be a NDArray'\n",
    "  assert X.shape[0] == Y.shape[0], f'X and Y must have the same dimension'\n",
    "\n",
    "def split_sequencial (partitions: tuple[int, ...], X = np.array, Y = np.array):\n",
    "  validate(partitions, X, Y)\n",
    "\n",
    "  length = X.shape[0]\n",
    "  start_index = 0\n",
    "  for partition in partitions:\n",
    "    step = round(partition / 100 * length)\n",
    "    end_index = start_index + step\n",
    "    yield X[start_index:end_index]\n",
    "    yield Y[start_index:end_index]\n",
    "    start_index = end_index\n",
    "    start_index = end_index"
   ]
  },
  {
   "cell_type": "markdown",
   "id": "e1f4dffc-dd8e-4736-9ede-3e5c5ceb3106",
   "metadata": {},
   "source": [
    "Se obtienen las X de forma individual y después se apilan en una sola matriz la cuál se estandariza. Finalmente el conjunto se divide en subconjuntos de entrenamiento y prueba."
   ]
  },
  {
   "cell_type": "code",
   "execution_count": 17,
   "id": "91e75d39-5d99-4204-bf7d-7a9c898073b4",
   "metadata": {},
   "outputs": [],
   "source": [
    "X1 = df['age'].values\n",
    "X2 = df['sex'].values\n",
    "X3 = df['cp'].values\n",
    "X4 = df['trtbps'].values\n",
    "X5 = df['chol'].values\n",
    "X6 = df['fbs'].values\n",
    "X7 = df['restecg'].values\n",
    "X8 = df['thalachh'].values\n",
    "X9 = df['exng'].values\n",
    "X10 = df['oldpeak'].values\n",
    "X11 = df['slp'].values\n",
    "X12 = df['caa'].values\n",
    "X13 = df['thall'].values\n",
    "Y = df['output'].values\n",
    "X = np.column_stack((X1, X2, X3, X4, X5, X6, X7, X8, X9, X10, X11, X12, X13))\n",
    "ss = StandardScaler()\n",
    "X = ss.fit_transform(X)\n",
    "X_train, Y_train, X_test, Y_test = split_sequencial((80, 20), X, Y)"
   ]
  },
  {
   "cell_type": "markdown",
   "id": "4a4d06ce-78ab-4fb8-bb80-38db93ee418b",
   "metadata": {},
   "source": [
    "Se define la clase para el Perceptron multicapa multiclase junto a las funciones que este necesita como la función sigmoide, la función softmax, la propagación frontal y la de retroceso."
   ]
  },
  {
   "cell_type": "code",
   "execution_count": 18,
   "id": "c636017d-739b-4dcb-817a-13e8f0d8a287",
   "metadata": {},
   "outputs": [],
   "source": [
    "def sigmoid(z):\n",
    "    return 1/(1+np.exp(-z))\n",
    "\n",
    "def softmax(z):\n",
    "    exp_values = np.exp(z - np.max(z, axis=0, keepdims=True))\n",
    "    return exp_values / np.sum(exp_values, axis=0, keepdims=True)\n",
    "\n",
    "def forward_propagation(w1, w2, x):\n",
    "    z1 = np.dot(w1, x)\n",
    "    a1 = sigmoid(z1)\n",
    "    z2 = np.dot(w2, a1)\n",
    "    a2 = softmax(z2)\n",
    "    return z1, a1, z2, a2\n",
    "\n",
    "def back_propagation(m, w1, w2, z1, a1, z2, a2, y, x):\n",
    "    dz2 = a2 - y.T\n",
    "    dw2 = np.dot(dz2, a1.T) / m\n",
    "    dz1 = np.dot(w2.T, dz2) * a1 * (1 - a1)\n",
    "    dw1 = np.dot(dz1, x.T) / m\n",
    "    dw1 = np.reshape(dw1, w1.shape)\n",
    "    dw2 = np.reshape(dw2, w2.shape)\n",
    "    return dz2, dw2, dz1, dw1\n",
    "\n",
    "def categorical_cross_entropy(yreal, ypred):\n",
    "    return -np.sum(yreal.T * np.log(ypred + 1e-8))\n",
    "\n",
    "class MLP:\n",
    "    def __init__(self, n_i=2, n_o=7, n_h=2, lr=0.1, iters=10000):\n",
    "        self.n_x = n_i\n",
    "        self.n_y = n_o\n",
    "        self.n_h = n_h\n",
    "        self.w1, self.w2 = None, None\n",
    "        self.iters = iters\n",
    "        self.losses = []\n",
    "        self.lr = lr\n",
    "\n",
    "    def init_weights(self):\n",
    "        self.w1 = np.random.rand(self.n_x, self.n_h)\n",
    "        self.w2 = np.random.rand(self.n_y, self.n_h)\n",
    "\n",
    "    def fit(self, x, y):\n",
    "        y = OneHotEncoder(sparse_output=False).fit_transform(y.reshape(-1, 1))\n",
    "        m = x.shape[1]\n",
    "        self.init_weights()\n",
    "        for i in range(self.iters):\n",
    "            z1, a1, z2, a2 = forward_propagation(self.w1, self.w2, x)\n",
    "            loss = (1 / m) * categorical_cross_entropy(y, a2)\n",
    "            self.losses.append(loss)\n",
    "            dz2, dw2, dz1, dw1 = back_propagation(m, self.w1, self.w2, z1, a1, z2, a2, y, x)\n",
    "            self.w2 = self.w2 - self.lr * dw2\n",
    "            self.w1 = self.w1 - self.lr * dw1\n",
    "        return self\n",
    "\n",
    "    def predict(self, input):\n",
    "        z1, a1, z2, a2 = forward_propagation(self.w1, self.w2, input)\n",
    "        return np.argmax(a2, axis=0)"
   ]
  },
  {
   "cell_type": "markdown",
   "id": "3199f047-4392-44ee-b85c-5e6f9036c491",
   "metadata": {},
   "source": [
    "Se entrenan 5 modelos a la vez y se busca el modelo con mayor puntaje con la función `accuracy_score`."
   ]
  },
  {
   "cell_type": "code",
   "execution_count": 27,
   "id": "7c3a08bb-22cf-4885-a777-21c78ce54a10",
   "metadata": {},
   "outputs": [
    {
     "name": "stdout",
     "output_type": "stream",
     "text": [
      "CPU times: user 4.18 s, sys: 21 ms, total: 4.21 s\n",
      "Wall time: 4.21 s\n"
     ]
    }
   ],
   "source": [
    "%%time\n",
    "model = max(\n",
    "    [MLP(13, 2, 13, 0.1, 16000) for i in range(0, 5)],\n",
    "    key=lambda model: accuracy_score(Y_train, model.fit(X_train.T, Y_train).predict(X_train.T))\n",
    ")"
   ]
  },
  {
   "cell_type": "markdown",
   "id": "fd4ebd7e-718d-4fb2-b372-56384e13892d",
   "metadata": {},
   "source": [
    "Se realiza la predicción de los datos de prueba y se obtiene los puntajes con las funciones:\n",
    "- `accuracy_score`\n",
    "- `precision_score`\n",
    "- `f1_score`\n",
    "- `recall_score` (Sensitivity)"
   ]
  },
  {
   "cell_type": "code",
   "execution_count": 24,
   "id": "3dcc1dc2-bf40-4251-a179-82d554c91cfa",
   "metadata": {},
   "outputs": [
    {
     "name": "stdout",
     "output_type": "stream",
     "text": [
      "Accuracy score with test dataset: 0.6557377049180327\n",
      "Precision score (Macro) with test dataset: 0.5\n",
      "Precision score (Micro) with test dataset: 0.6557377049180327\n",
      "Precision score (Weighted) with test dataset: 1.0\n",
      "F1 score (Macro) with test dataset: 0.39603960396039606\n",
      "F1 score (Micro) with test dataset: 0.6557377049180327\n",
      "F1 score (Weighted) with test dataset: 0.7920792079207921\n",
      "Sensitivity score (Macro) with test dataset: 0.32786885245901637\n",
      "Sensitivity score (Micro) with test dataset: 0.6557377049180327\n",
      "Sensitivity score (Weighted) with test dataset: 0.6557377049180327\n"
     ]
    }
   ],
   "source": [
    "predictions = model.predict(X_test.T)\n",
    "print(f'Accuracy score with test dataset: {accuracy_score(Y_test, predictions)}')\n",
    "print(f'Precision score (Macro) with test dataset: {precision_score(Y_test, predictions, average=\"macro\")}')\n",
    "print(f'Precision score (Micro) with test dataset: {precision_score(Y_test, predictions, average=\"micro\")}')\n",
    "print(f'Precision score (Weighted) with test dataset: {precision_score(Y_test, predictions, average=\"weighted\")}')\n",
    "print(f'F1 score (Macro) with test dataset: {f1_score(Y_test, predictions, average=\"macro\")}')\n",
    "print(f'F1 score (Micro) with test dataset: {f1_score(Y_test, predictions, average=\"micro\")}')\n",
    "print(f'F1 score (Weighted) with test dataset: {f1_score(Y_test, predictions, average=\"weighted\")}')\n",
    "print(f'Sensitivity score (Macro) with test dataset: {recall_score(Y_test, predictions, average=\"macro\", zero_division=0)}')\n",
    "print(f'Sensitivity score (Micro) with test dataset: {recall_score(Y_test, predictions, average=\"micro\", zero_division=0)}')\n",
    "print(f'Sensitivity score (Weighted) with test dataset: {recall_score(Y_test, predictions, average=\"weighted\", zero_division=0)}')"
   ]
  },
  {
   "cell_type": "markdown",
   "id": "e833635e-103b-46f2-94ad-40b6becd9407",
   "metadata": {},
   "source": [
    "Se gráfica la perdida conforme a las iteraciones."
   ]
  },
  {
   "cell_type": "code",
   "execution_count": 20,
   "id": "73f9b3f1-8ab4-47e0-9544-22f44f166907",
   "metadata": {},
   "outputs": [
    {
     "data": {
      "image/png": "[encoded data removed]",
      "text/plain": [
       "<Figure size 640x480 with 1 Axes>"
      ]
     },
     "metadata": {},
     "output_type": "display_data"
    }
   ],
   "source": [
    "plt.plot(model.losses)\n",
    "plt.xlabel(\"Iteraciones\")\n",
    "plt.ylabel(\"Perdida\")\n",
    "plt.savefig('./MLP-employee-loss.png')\n",
    "plt.show()"
   ]
  }
 ],
 "metadata": {
  "kernelspec": {
   "display_name": "Python 3 (ipykernel)",
   "language": "python",
   "name": "python3"
  },
  "language_info": {
   "codemirror_mode": {
    "name": "ipython",
    "version": 3
   },
   "file_extension": ".py",
   "mimetype": "text/x-python",
   "name": "python",
   "nbconvert_exporter": "python",
   "pygments_lexer": "ipython3",
   "version": "3.10.10"
  }
 },
 "nbformat": 4,
 "nbformat_minor": 5
}
