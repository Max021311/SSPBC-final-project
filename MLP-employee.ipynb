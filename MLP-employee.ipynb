{
 "cells": [
  {
   "cell_type": "markdown",
   "id": "6e2293d4-6502-4eef-b3d7-8348ddcd2809",
   "metadata": {},
   "source": [
    "Se importan las siguiente librerías:\n",
    "- pandas: para poder cargar el dataset\n",
    "- numpy: para poder manipular los arreglos y usar vectorización\n",
    "- matplotlib: para graficar\n",
    "- sklearn: para poder usar el label encoding, estandarizar, one-hot encoding y calcular las métricas"
   ]
  },
  {
   "cell_type": "code",
   "execution_count": 11,
   "id": "51fe60df-21fe-4323-bf72-1fa3e9e4ee18",
   "metadata": {},
   "outputs": [],
   "source": [
    "import pandas as pd\n",
    "import numpy as np\n",
    "import matplotlib.pyplot as plt\n",
    "from sklearn.preprocessing import LabelEncoder, StandardScaler, OneHotEncoder\n",
    "from sklearn.metrics import accuracy_score, precision_score, f1_score, recall_score"
   ]
  },
  {
   "cell_type": "markdown",
   "id": "f80f2778-ba9b-4d9c-a485-1dc5c1f4d2b5",
   "metadata": {},
   "source": [
    "Se cargan los datos del dataset."
   ]
  },
  {
   "cell_type": "code",
   "execution_count": 12,
   "id": "112eb84e-3561-433a-9897-997647cfbe54",
   "metadata": {},
   "outputs": [
    {
     "data": {
      "text/html": [
       "<div>\n",
       "<style scoped>\n",
       "    .dataframe tbody tr th:only-of-type {\n",
       "        vertical-align: middle;\n",
       "    }\n",
       "\n",
       "    .dataframe tbody tr th {\n",
       "        vertical-align: top;\n",
       "    }\n",
       "\n",
       "    .dataframe thead th {\n",
       "        text-align: right;\n",
       "    }\n",
       "</style>\n",
       "<table border=\"1\" class=\"dataframe\">\n",
       "  <thead>\n",
       "    <tr style=\"text-align: right;\">\n",
       "      <th></th>\n",
       "      <th>Education</th>\n",
       "      <th>JoiningYear</th>\n",
       "      <th>City</th>\n",
       "      <th>PaymentTier</th>\n",
       "      <th>Age</th>\n",
       "      <th>Gender</th>\n",
       "      <th>EverBenched</th>\n",
       "      <th>ExperienceInCurrentDomain</th>\n",
       "      <th>LeaveOrNot</th>\n",
       "    </tr>\n",
       "  </thead>\n",
       "  <tbody>\n",
       "    <tr>\n",
       "      <th>0</th>\n",
       "      <td>Bachelors</td>\n",
       "      <td>2017</td>\n",
       "      <td>Bangalore</td>\n",
       "      <td>3</td>\n",
       "      <td>34</td>\n",
       "      <td>Male</td>\n",
       "      <td>No</td>\n",
       "      <td>0</td>\n",
       "      <td>0</td>\n",
       "    </tr>\n",
       "    <tr>\n",
       "      <th>1</th>\n",
       "      <td>Bachelors</td>\n",
       "      <td>2013</td>\n",
       "      <td>Pune</td>\n",
       "      <td>1</td>\n",
       "      <td>28</td>\n",
       "      <td>Female</td>\n",
       "      <td>No</td>\n",
       "      <td>3</td>\n",
       "      <td>1</td>\n",
       "    </tr>\n",
       "    <tr>\n",
       "      <th>2</th>\n",
       "      <td>Bachelors</td>\n",
       "      <td>2014</td>\n",
       "      <td>New Delhi</td>\n",
       "      <td>3</td>\n",
       "      <td>38</td>\n",
       "      <td>Female</td>\n",
       "      <td>No</td>\n",
       "      <td>2</td>\n",
       "      <td>0</td>\n",
       "    </tr>\n",
       "    <tr>\n",
       "      <th>3</th>\n",
       "      <td>Masters</td>\n",
       "      <td>2016</td>\n",
       "      <td>Bangalore</td>\n",
       "      <td>3</td>\n",
       "      <td>27</td>\n",
       "      <td>Male</td>\n",
       "      <td>No</td>\n",
       "      <td>5</td>\n",
       "      <td>1</td>\n",
       "    </tr>\n",
       "    <tr>\n",
       "      <th>4</th>\n",
       "      <td>Masters</td>\n",
       "      <td>2017</td>\n",
       "      <td>Pune</td>\n",
       "      <td>3</td>\n",
       "      <td>24</td>\n",
       "      <td>Male</td>\n",
       "      <td>Yes</td>\n",
       "      <td>2</td>\n",
       "      <td>1</td>\n",
       "    </tr>\n",
       "  </tbody>\n",
       "</table>\n",
       "</div>"
      ],
      "text/plain": [
       "   Education  JoiningYear       City  PaymentTier  Age  Gender EverBenched  \\\n",
       "0  Bachelors         2017  Bangalore            3   34    Male          No   \n",
       "1  Bachelors         2013       Pune            1   28  Female          No   \n",
       "2  Bachelors         2014  New Delhi            3   38  Female          No   \n",
       "3    Masters         2016  Bangalore            3   27    Male          No   \n",
       "4    Masters         2017       Pune            3   24    Male         Yes   \n",
       "\n",
       "   ExperienceInCurrentDomain  LeaveOrNot  \n",
       "0                          0           0  \n",
       "1                          3           1  \n",
       "2                          2           0  \n",
       "3                          5           1  \n",
       "4                          2           1  "
      ]
     },
     "execution_count": 12,
     "metadata": {},
     "output_type": "execute_result"
    }
   ],
   "source": [
    "df = pd.read_csv('Employee.csv')\n",
    "df.head()"
   ]
  },
  {
   "cell_type": "markdown",
   "id": "d47c8f23-d352-40fc-841a-7738fc3d41ba",
   "metadata": {},
   "source": [
    "Función para dividir el datasaet en subconjuntos."
   ]
  },
  {
   "cell_type": "code",
   "execution_count": 13,
   "id": "e85f4492-db09-4d3a-92ff-dc24f5e9fd57",
   "metadata": {},
   "outputs": [],
   "source": [
    "def validate(partitions: tuple[int, ...], X = np.array, Y = np.array):\n",
    "  assert type(partitions) == tuple, 'Partitions must be a tuple of ints'\n",
    "  assert sum(partitions) == 100, 'Sum of paritions must be 100'\n",
    "  assert type(X) == np.ndarray, 'X must be a NDArray'\n",
    "  assert type(Y) == np.ndarray, 'X must be a NDArray'\n",
    "  assert X.shape[0] == Y.shape[0], f'X and Y must have the same dimension'\n",
    "\n",
    "def split_sequencial (partitions: tuple[int, ...], X = np.array, Y = np.array):\n",
    "  validate(partitions, X, Y)\n",
    "\n",
    "  length = X.shape[0]\n",
    "  start_index = 0\n",
    "  for partition in partitions:\n",
    "    step = round(partition / 100 * length)\n",
    "    end_index = start_index + step\n",
    "    yield X[start_index:end_index]\n",
    "    yield Y[start_index:end_index]\n",
    "    start_index = end_index\n",
    "    start_index = end_index"
   ]
  },
  {
   "cell_type": "markdown",
   "id": "d18eff45-7a5f-40c3-a4e3-54571655f82d",
   "metadata": {},
   "source": [
    "Se usa label encoding para los campos `Education`, `City`, `Gender` y `EverBenched` después las X se apilan en una matriz la cuál se estandariza. Finalmente se divide el conjunto en subconjuntos de entrenamiento y prueba."
   ]
  },
  {
   "cell_type": "code",
   "execution_count": 14,
   "id": "91e75d39-5d99-4204-bf7d-7a9c898073b4",
   "metadata": {},
   "outputs": [
    {
     "name": "stdout",
     "output_type": "stream",
     "text": [
      "(4653, 8)\n"
     ]
    }
   ],
   "source": [
    "X1 = LabelEncoder().fit_transform(df['Education']).astype(np.float64)\n",
    "X2 = df['JoiningYear'].values.astype(np.float64)\n",
    "X3 = LabelEncoder().fit_transform(df['City']).astype(np.float64)\n",
    "X4 = df['Age'].values.astype(np.float64)\n",
    "X5 = LabelEncoder().fit_transform(df['Gender']).astype(np.float64)\n",
    "X6 = LabelEncoder().fit_transform(df['EverBenched']).astype(np.float64)\n",
    "X7 = df['ExperienceInCurrentDomain'].values.astype(np.float64)\n",
    "X8 = df['PaymentTier'].values.astype(np.float64)\n",
    "Y = df['LeaveOrNot'].values\n",
    "X = np.column_stack((X1, X2, X3, X4, X5, X6, X7, X8))\n",
    "ss = StandardScaler()\n",
    "X = ss.fit_transform(X)\n",
    "print(X.shape)\n",
    "X_train, Y_train, X_test, Y_test = split_sequencial((80, 20), X, Y)"
   ]
  },
  {
   "cell_type": "markdown",
   "id": "03900a02-0381-4ee3-bffe-22eaf9e03d90",
   "metadata": {},
   "source": [
    "Se define la clase para el Perceptron multicapa multiclase junto a las funciones que este necesita como la función sigmoide, la función softmax, la propagación frontal y la de retroceso."
   ]
  },
  {
   "cell_type": "code",
   "execution_count": null,
   "id": "5db42955-6f65-456f-a710-bfa30aaefc57",
   "metadata": {},
   "outputs": [],
   "source": [
    "from sklearn.preprocessing import OneHotEncoder\n",
    "onehot_encoder = OneHotEncoder(sparse_output=False)\n",
    "\n",
    "def sigmoid(z):\n",
    "    return 1/(1+np.exp(-z))\n",
    "\n",
    "def softmax(z):\n",
    "    exp_values = np.exp(z - np.max(z, axis=0, keepdims=True))\n",
    "    return exp_values / np.sum(exp_values, axis=0, keepdims=True)\n",
    "\n",
    "def forward_propagation(w1, w2, x):\n",
    "    z1 = np.dot(w1, x)\n",
    "    a1 = sigmoid(z1)\n",
    "    z2 = np.dot(w2, a1)\n",
    "    a2 = softmax(z2)\n",
    "    return z1, a1, z2, a2\n",
    "\n",
    "def back_propagation(m, w1, w2, z1, a1, z2, a2, y, x):\n",
    "    dz2 = a2 - y.T\n",
    "    dw2 = np.dot(dz2, a1.T) / m\n",
    "    dz1 = np.dot(w2.T, dz2) * a1 * (1 - a1)\n",
    "    dw1 = np.dot(dz1, x.T) / m\n",
    "    dw1 = np.reshape(dw1, w1.shape)\n",
    "    dw2 = np.reshape(dw2, w2.shape)\n",
    "    return dz2, dw2, dz1, dw1\n",
    "\n",
    "def categorical_cross_entropy(yreal, ypred):\n",
    "    return -np.sum(yreal.T * np.log(ypred + 1e-8))\n",
    "\n",
    "class MLP:\n",
    "    def __init__(self, n_i=2, n_o=7, n_h=2, lr=0.1, iters=10000):\n",
    "        self.n_x = n_i\n",
    "        self.n_y = n_o\n",
    "        self.n_h = n_h\n",
    "        self.w1, self.w2 = None, None\n",
    "        self.iters = iters\n",
    "        self.losses = []\n",
    "        self.lr = lr\n",
    "\n",
    "    def init_weights(self):\n",
    "        self.w1 = np.random.rand(self.n_x, self.n_h)\n",
    "        self.w2 = np.random.rand(self.n_y, self.n_h)\n",
    "\n",
    "    def fit(self, x, y):\n",
    "        y = onehot_encoder.fit_transform(y.reshape(-1, 1))\n",
    "        m = x.shape[1]\n",
    "        self.init_weights()\n",
    "        for i in range(self.iters):\n",
    "            z1, a1, z2, a2 = forward_propagation(self.w1, self.w2, x)\n",
    "            loss = (1 / m) * categorical_cross_entropy(y, a2)\n",
    "            self.losses.append(loss)\n",
    "            dz2, dw2, dz1, dw1 = back_propagation(m, self.w1, self.w2, z1, a1, z2, a2, y, x)\n",
    "            self.w2 = self.w2 - self.lr * dw2\n",
    "            self.w1 = self.w1 - self.lr * dw1\n",
    "        return self\n",
    "\n",
    "    def predict(self, input):\n",
    "        z1, a1, z2, a2 = forward_propagation(self.w1, self.w2, input)\n",
    "        return np.argmax(a2, axis=0)"
   ]
  },
  {
   "cell_type": "markdown",
   "id": "d431f5ec-8efc-4640-8f8e-ba9fd70ade33",
   "metadata": {},
   "source": [
    "Se entrenan 3 modelos a la vez y se busca el modelo con mayor puntaje con la función `accuracy_score`."
   ]
  },
  {
   "cell_type": "code",
   "execution_count": 19,
   "id": "c1babfe0-83cd-45fe-ad11-96fb901199e9",
   "metadata": {},
   "outputs": [
    {
     "name": "stdout",
     "output_type": "stream",
     "text": [
      "CPU times: user 8.99 s, sys: 359 ms, total: 9.35 s\n",
      "Wall time: 9.37 s\n"
     ]
    }
   ],
   "source": [
    "%%time\n",
    "model = max(\n",
    "    [MLP(8, 2, 8, 0.7, 8000) for i in range(0, 3)],\n",
    "    key=lambda model: accuracy_score(Y_train, model.fit(X_train.T, Y_train).predict(X_train.T))\n",
    ")"
   ]
  },
  {
   "cell_type": "markdown",
   "id": "38d1dd48-e0b5-457d-b2e7-e3c02f5b8fb2",
   "metadata": {},
   "source": [
    "Se realiza la predicción de los datos de prueba y se obtiene los puntajes con las funciones:\n",
    "- `accuracy_score`\n",
    "- `precision_score`\n",
    "- `f1_score`\n",
    "- `recall_score` (Sensitivity)"
   ]
  },
  {
   "cell_type": "code",
   "execution_count": 17,
   "id": "98bb6cf5-fd3c-4597-88b2-c192b72f4ab4",
   "metadata": {},
   "outputs": [
    {
     "name": "stdout",
     "output_type": "stream",
     "text": [
      "Accuracy score with test dataset: 0.841031149301826\n",
      "Precision score (Macro) with test dataset: 0.842948551383656\n",
      "Precision score (Micro) with test dataset: 0.841031149301826\n",
      "Precision score (Weighted) with test dataset: 0.8416588018795109\n",
      "F1 score (Macro) with test dataset: 0.8006539351851851\n",
      "F1 score (Micro) with test dataset: 0.841031149301826\n",
      "F1 score (Weighted) with test dataset: 0.8331291646775669\n",
      "Sensitivity score (Macro) with test dataset: 0.7803720698042464\n",
      "Sensitivity score (Micro) with test dataset: 0.841031149301826\n",
      "Sensitivity score (Weighted) with test dataset: 0.841031149301826\n"
     ]
    }
   ],
   "source": [
    "predictions = model.predict(X_test.T)\n",
    "print(f'Accuracy score with test dataset: {accuracy_score(Y_test, predictions)}')\n",
    "print(f'Precision score (Macro) with test dataset: {precision_score(Y_test, predictions, average=\"macro\")}')\n",
    "print(f'Precision score (Micro) with test dataset: {precision_score(Y_test, predictions, average=\"micro\")}')\n",
    "print(f'Precision score (Weighted) with test dataset: {precision_score(Y_test, predictions, average=\"weighted\")}')\n",
    "print(f'F1 score (Macro) with test dataset: {f1_score(Y_test, predictions, average=\"macro\")}')\n",
    "print(f'F1 score (Micro) with test dataset: {f1_score(Y_test, predictions, average=\"micro\")}')\n",
    "print(f'F1 score (Weighted) with test dataset: {f1_score(Y_test, predictions, average=\"weighted\")}')\n",
    "print(f'Sensitivity score (Macro) with test dataset: {recall_score(Y_test, predictions, average=\"macro\", zero_division=0)}')\n",
    "print(f'Sensitivity score (Micro) with test dataset: {recall_score(Y_test, predictions, average=\"micro\", zero_division=0)}')\n",
    "print(f'Sensitivity score (Weighted) with test dataset: {recall_score(Y_test, predictions, average=\"weighted\", zero_division=0)}')"
   ]
  },
  {
   "cell_type": "markdown",
   "id": "be8e578b-b2d7-4c79-956f-8a2f7449205a",
   "metadata": {},
   "source": [
    "Se gráfica la perdida conforme a las iteraciones."
   ]
  },
  {
   "cell_type": "code",
   "execution_count": 18,
   "id": "6a978110-dee4-4cbe-9b97-5739301bf3fe",
   "metadata": {},
   "outputs": [
    {
     "data": {
      "image/png": "[encoded data removed]",
      "text/plain": [
       "<Figure size 640x480 with 1 Axes>"
      ]
     },
     "metadata": {},
     "output_type": "display_data"
    }
   ],
   "source": [
    "plt.plot(model.losses)\n",
    "plt.xlabel(\"Iteraciones\")\n",
    "plt.ylabel(\"Perdida\")\n",
    "plt.savefig('./MLP-employee-loss.png')\n",
    "plt.show()"
   ]
  }
 ],
 "metadata": {
  "kernelspec": {
   "display_name": "Python 3 (ipykernel)",
   "language": "python",
   "name": "python3"
  },
  "language_info": {
   "codemirror_mode": {
    "name": "ipython",
    "version": 3
   },
   "file_extension": ".py",
   "mimetype": "text/x-python",
   "name": "python",
   "nbconvert_exporter": "python",
   "pygments_lexer": "ipython3",
   "version": "3.10.10"
  }
 },
 "nbformat": 4,
 "nbformat_minor": 5
}
