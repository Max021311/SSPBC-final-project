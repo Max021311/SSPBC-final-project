{
 "cells": [
  {
   "cell_type": "markdown",
   "metadata": {
    "id": "qClVtMJ2eHVn"
   },
   "source": [
    "Se importan las siguiente librerías:\n",
    "- pandas: para poder cargar el dataset\n",
    "- numpy: para poder manipular los arreglos y usar vectorización\n",
    "- matplotlib: para graficar\n",
    "- sklearn: para poder usar el label encoding, estandarizar, one-hot encoding y calcular las métricas"
   ]
  },
  {
   "cell_type": "code",
   "execution_count": 35,
   "metadata": {
    "id": "M0RTCcMfjSNd"
   },
   "outputs": [],
   "source": [
    "import pandas as pd\n",
    "import numpy as np\n",
    "import matplotlib.pyplot as plt\n",
    "from sklearn.preprocessing import LabelEncoder, StandardScaler, OneHotEncoder\n",
    "from sklearn.metrics import accuracy_score, precision_score, f1_score, recall_score\n",
    "from scipy.special import softmax"
   ]
  },
  {
   "cell_type": "markdown",
   "metadata": {
    "id": "JlxaiBHBeFPR"
   },
   "source": [
    "Se cargan los datos del dataset."
   ]
  },
  {
   "cell_type": "code",
   "execution_count": 36,
   "metadata": {
    "colab": {
     "base_uri": "https://localhost:8080/",
     "height": 206
    },
    "id": "ebHpS9KjkhVA",
    "outputId": "fe6d63ce-51b0-4505-883c-733abb5561e9"
   },
   "outputs": [
    {
     "data": {
      "text/html": [
       "<div>\n",
       "<style scoped>\n",
       "    .dataframe tbody tr th:only-of-type {\n",
       "        vertical-align: middle;\n",
       "    }\n",
       "\n",
       "    .dataframe tbody tr th {\n",
       "        vertical-align: top;\n",
       "    }\n",
       "\n",
       "    .dataframe thead th {\n",
       "        text-align: right;\n",
       "    }\n",
       "</style>\n",
       "<table border=\"1\" class=\"dataframe\">\n",
       "  <thead>\n",
       "    <tr style=\"text-align: right;\">\n",
       "      <th></th>\n",
       "      <th>Education</th>\n",
       "      <th>JoiningYear</th>\n",
       "      <th>City</th>\n",
       "      <th>PaymentTier</th>\n",
       "      <th>Age</th>\n",
       "      <th>Gender</th>\n",
       "      <th>EverBenched</th>\n",
       "      <th>ExperienceInCurrentDomain</th>\n",
       "      <th>LeaveOrNot</th>\n",
       "    </tr>\n",
       "  </thead>\n",
       "  <tbody>\n",
       "    <tr>\n",
       "      <th>0</th>\n",
       "      <td>Bachelors</td>\n",
       "      <td>2017</td>\n",
       "      <td>Bangalore</td>\n",
       "      <td>3</td>\n",
       "      <td>34</td>\n",
       "      <td>Male</td>\n",
       "      <td>No</td>\n",
       "      <td>0</td>\n",
       "      <td>0</td>\n",
       "    </tr>\n",
       "    <tr>\n",
       "      <th>1</th>\n",
       "      <td>Bachelors</td>\n",
       "      <td>2013</td>\n",
       "      <td>Pune</td>\n",
       "      <td>1</td>\n",
       "      <td>28</td>\n",
       "      <td>Female</td>\n",
       "      <td>No</td>\n",
       "      <td>3</td>\n",
       "      <td>1</td>\n",
       "    </tr>\n",
       "    <tr>\n",
       "      <th>2</th>\n",
       "      <td>Bachelors</td>\n",
       "      <td>2014</td>\n",
       "      <td>New Delhi</td>\n",
       "      <td>3</td>\n",
       "      <td>38</td>\n",
       "      <td>Female</td>\n",
       "      <td>No</td>\n",
       "      <td>2</td>\n",
       "      <td>0</td>\n",
       "    </tr>\n",
       "    <tr>\n",
       "      <th>3</th>\n",
       "      <td>Masters</td>\n",
       "      <td>2016</td>\n",
       "      <td>Bangalore</td>\n",
       "      <td>3</td>\n",
       "      <td>27</td>\n",
       "      <td>Male</td>\n",
       "      <td>No</td>\n",
       "      <td>5</td>\n",
       "      <td>1</td>\n",
       "    </tr>\n",
       "    <tr>\n",
       "      <th>4</th>\n",
       "      <td>Masters</td>\n",
       "      <td>2017</td>\n",
       "      <td>Pune</td>\n",
       "      <td>3</td>\n",
       "      <td>24</td>\n",
       "      <td>Male</td>\n",
       "      <td>Yes</td>\n",
       "      <td>2</td>\n",
       "      <td>1</td>\n",
       "    </tr>\n",
       "  </tbody>\n",
       "</table>\n",
       "</div>"
      ],
      "text/plain": [
       "   Education  JoiningYear       City  PaymentTier  Age  Gender EverBenched  \\\n",
       "0  Bachelors         2017  Bangalore            3   34    Male          No   \n",
       "1  Bachelors         2013       Pune            1   28  Female          No   \n",
       "2  Bachelors         2014  New Delhi            3   38  Female          No   \n",
       "3    Masters         2016  Bangalore            3   27    Male          No   \n",
       "4    Masters         2017       Pune            3   24    Male         Yes   \n",
       "\n",
       "   ExperienceInCurrentDomain  LeaveOrNot  \n",
       "0                          0           0  \n",
       "1                          3           1  \n",
       "2                          2           0  \n",
       "3                          5           1  \n",
       "4                          2           1  "
      ]
     },
     "execution_count": 36,
     "metadata": {},
     "output_type": "execute_result"
    }
   ],
   "source": [
    "df = pd.read_csv('Employee.csv')\n",
    "df.head()"
   ]
  },
  {
   "cell_type": "markdown",
   "metadata": {
    "id": "h_Slf89vb74X"
   },
   "source": [
    "Función para dividir el datasaet en subconjuntos."
   ]
  },
  {
   "cell_type": "code",
   "execution_count": 37,
   "metadata": {
    "id": "-Ngtvab6iN5A"
   },
   "outputs": [],
   "source": [
    "def validate(partitions: tuple[int, ...], X = np.array, Y = np.array):\n",
    "  assert type(partitions) == tuple, 'Partitions must be a tuple of ints'\n",
    "  assert sum(partitions) == 100, 'Sum of paritions must be 100'\n",
    "  assert type(X) == np.ndarray, 'X must be a NDArray'\n",
    "  assert type(Y) == np.ndarray, 'X must be a NDArray'\n",
    "  assert X.shape[0] == Y.shape[0], f'X and Y must have the same dimension'\n",
    "\n",
    "def split_sequencial (partitions: tuple[int, ...], X = np.array, Y = np.array):\n",
    "  validate(partitions, X, Y)\n",
    "\n",
    "  length = X.shape[0]\n",
    "  start_index = 0\n",
    "  for partition in partitions:\n",
    "    step = round(partition / 100 * length)\n",
    "    end_index = start_index + step\n",
    "    yield X[start_index:end_index]\n",
    "    yield Y[start_index:end_index]\n",
    "    start_index = end_index\n",
    "    start_index = end_index"
   ]
  },
  {
   "cell_type": "markdown",
   "metadata": {
    "id": "iPnBasrwhnJo"
   },
   "source": [
    "Se usa label encoding para los campos `Education`, `City`, `Gender` y `EverBenched` después las X se apilan en una matriz la cuál se estandariza. Finalmente se divide el conjunto en subconjuntos de entrenamiento y prueba."
   ]
  },
  {
   "cell_type": "code",
   "execution_count": 38,
   "metadata": {
    "id": "7enRiC9mmtP7"
   },
   "outputs": [],
   "source": [
    "X1 = LabelEncoder().fit_transform(df['Education']).astype(np.float64)\n",
    "X2 = df['JoiningYear'].values.astype(np.float64)\n",
    "X3 = LabelEncoder().fit_transform(df['City']).astype(np.float64)\n",
    "X4 = df['Age'].values.astype(np.float64)\n",
    "X5 = LabelEncoder().fit_transform(df['Gender']).astype(np.float64)\n",
    "X6 = LabelEncoder().fit_transform(df['EverBenched']).astype(np.float64)\n",
    "X7 = df['ExperienceInCurrentDomain'].values.astype(np.float64)\n",
    "X8 = df['PaymentTier'].values.astype(np.float64)\n",
    "Y = df['LeaveOrNot'].values\n",
    "X = np.column_stack((X1, X2, X3, X4, X5, X6, X7, X8))\n",
    "ss = StandardScaler()\n",
    "X = ss.fit_transform(X)\n",
    "X_train, Y_train, X_test, Y_test = split_sequencial((80, 20), X, Y)"
   ]
  },
  {
   "cell_type": "markdown",
   "metadata": {},
   "source": [
    "Se define la clase para la regresión logistica multiclase. Similar a la regresión lineal, salvo que al producto obtenido mediante multiplicar X por los coeficientes (pendiente e intersección) se le aplica la función sigmoide."
   ]
  },
  {
   "cell_type": "code",
   "execution_count": 39,
   "metadata": {},
   "outputs": [],
   "source": [
    "onehot_encoder = OneHotEncoder(sparse_output=False)\n",
    "\n",
    "def loss(X, Y, W):\n",
    "    Z = - X @ W\n",
    "    N = X.shape[0]\n",
    "    loss = 1/N * (np.trace(X @ W @ Y.T) + np.sum(np.log(np.sum(np.exp(Z), axis=1))))\n",
    "    return loss\n",
    "\n",
    "def gradient(X, Y, W, mu):\n",
    "    Z = - X @ W\n",
    "    P = softmax(Z, axis=1)\n",
    "    N = X.shape[0]\n",
    "    return 1/N * (X.T @ (Y - P)) + 2 * mu * W\n",
    "\n",
    "class MulticlassLR:\n",
    "    def __init__(self, iters=100, lr=0.001, mu=0.01):\n",
    "        self.iters = iters\n",
    "        self.lr = lr\n",
    "        self.coefficients = None\n",
    "        self.losses = []\n",
    "        self.mu = mu\n",
    "\n",
    "    def fit(self, X, Y):\n",
    "        Y_onehot = onehot_encoder.fit_transform(Y.reshape(-1,1))\n",
    "        X = np.column_stack([np.ones(X.shape[0]), X])\n",
    "        self.coefficients = np.zeros((X.shape[1], Y_onehot.shape[1]))\n",
    "        m = X.shape[0]\n",
    "\n",
    "        for _ in range(self.iters):\n",
    "            grad = gradient(X, Y_onehot, self.coefficients, self.mu)\n",
    "            self.coefficients -= self.lr * grad\n",
    "            self.losses.append(loss(X, Y_onehot, self.coefficients))\n",
    "\n",
    "    def predict(self, X):\n",
    "        X = np.column_stack([np.ones(X.shape[0]), X])\n",
    "        a = - np.dot(X, self.coefficients)\n",
    "        return np.argmax(softmax(a, axis=1), axis=1)"
   ]
  },
  {
   "cell_type": "markdown",
   "metadata": {},
   "source": [
    "Se entrena el modelo"
   ]
  },
  {
   "cell_type": "code",
   "execution_count": 40,
   "metadata": {},
   "outputs": [
    {
     "name": "stdout",
     "output_type": "stream",
     "text": [
      "CPU times: user 6.64 s, sys: 4.23 s, total: 10.9 s\n",
      "Wall time: 10.9 s\n"
     ]
    }
   ],
   "source": [
    "%%time\n",
    "model = MulticlassLR(1000, 0.019)\n",
    "model.fit(X_train, Y_train)"
   ]
  },
  {
   "cell_type": "markdown",
   "metadata": {},
   "source": [
    "Se realiza la predicción de los datos de prueba y se obtiene los puntajes con las funciones:\n",
    "- `accuracy_score`\n",
    "- `precision_score`\n",
    "- `f1_score`\n",
    "- `recall_score` (Sensitivity)"
   ]
  },
  {
   "cell_type": "code",
   "execution_count": 41,
   "metadata": {},
   "outputs": [
    {
     "name": "stdout",
     "output_type": "stream",
     "text": [
      "Accuracy score with test dataset: 0.7218045112781954\n",
      "Precision score (Macro) with test dataset: 0.6781494581577363\n",
      "Precision score (Micro) with test dataset: 0.7218045112781954\n",
      "Precision score (Weighted) with test dataset: 0.7035583578150676\n",
      "F1 score (Macro) with test dataset: 0.6329831034236078\n",
      "F1 score (Micro) with test dataset: 0.7218045112781954\n",
      "F1 score (Weighted) with test dataset: 0.6983385934825512\n",
      "Sensitivity score (Macro) with test dataset: 0.6257182763491912\n",
      "Sensitivity score (Micro) with test dataset: 0.7218045112781954\n",
      "Sensitivity score (Weighted) with test dataset: 0.7218045112781954\n"
     ]
    }
   ],
   "source": [
    "predictions = model.predict(X_test)\n",
    "print(f'Accuracy score with test dataset: {accuracy_score(Y_test, predictions)}')\n",
    "print(f'Precision score (Macro) with test dataset: {precision_score(Y_test, predictions, average=\"macro\", zero_division=0)}')\n",
    "print(f'Precision score (Micro) with test dataset: {precision_score(Y_test, predictions, average=\"micro\", zero_division=0)}')\n",
    "print(f'Precision score (Weighted) with test dataset: {precision_score(Y_test, predictions, average=\"weighted\", zero_division=0)}')\n",
    "print(f'F1 score (Macro) with test dataset: {f1_score(Y_test, predictions, average=\"macro\")}')\n",
    "print(f'F1 score (Micro) with test dataset: {f1_score(Y_test, predictions, average=\"micro\")}')\n",
    "print(f'F1 score (Weighted) with test dataset: {f1_score(Y_test, predictions, average=\"weighted\")}')\n",
    "print(f'Sensitivity score (Macro) with test dataset: {recall_score(Y_test, predictions, average=\"macro\", zero_division=0)}')\n",
    "print(f'Sensitivity score (Micro) with test dataset: {recall_score(Y_test, predictions, average=\"micro\", zero_division=0)}')\n",
    "print(f'Sensitivity score (Weighted) with test dataset: {recall_score(Y_test, predictions, average=\"weighted\", zero_division=0)}')"
   ]
  },
  {
   "cell_type": "markdown",
   "metadata": {},
   "source": [
    "Se gráfica la perdida conforme a las iteraciones."
   ]
  },
  {
   "cell_type": "code",
   "execution_count": 42,
   "metadata": {},
   "outputs": [
    {
     "data": {
      "image/png": "[encoded data removed]",
      "text/plain": [
       "<Figure size 640x480 with 1 Axes>"
      ]
     },
     "metadata": {},
     "output_type": "display_data"
    }
   ],
   "source": [
    "plt.plot(model.losses)\n",
    "plt.xlabel(\"Iteraciones\")\n",
    "plt.ylabel(\"Perdida\")\n",
    "plt.savefig('./MLR-employee-loss.png')\n",
    "plt.show()"
   ]
  }
 ],
 "metadata": {
  "colab": {
   "provenance": []
  },
  "kernelspec": {
   "display_name": "Python 3 (ipykernel)",
   "language": "python",
   "name": "python3"
  },
  "language_info": {
   "codemirror_mode": {
    "name": "ipython",
    "version": 3
   },
   "file_extension": ".py",
   "mimetype": "text/x-python",
   "name": "python",
   "nbconvert_exporter": "python",
   "pygments_lexer": "ipython3",
   "version": "3.10.10"
  }
 },
 "nbformat": 4,
 "nbformat_minor": 4
}
