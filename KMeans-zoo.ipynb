{
 "cells": [
  {
   "cell_type": "markdown",
   "metadata": {
    "id": "qClVtMJ2eHVn"
   },
   "source": [
    "Se importan las siguiente librerías:\n",
    "- pandas: para poder cargar el dataset\n",
    "- numpy: para poder manipular los arreglos y usar vectorización\n",
    "- matplotlib: para graficar\n",
    "- sklearn: para poder usar el label encoding, estandarizar, one-hot encoding y calcular las métricas"
   ]
  },
  {
   "cell_type": "code",
   "execution_count": 2,
   "metadata": {
    "id": "M0RTCcMfjSNd"
   },
   "outputs": [],
   "source": [
    "import pandas as pd\n",
    "import numpy as np\n",
    "import matplotlib.pyplot as plt\n",
    "from sklearn.preprocessing import LabelEncoder, StandardScaler, OneHotEncoder\n",
    "from sklearn.metrics import accuracy_score, precision_score, f1_score, recall_score\n",
    "from scipy.special import softmax"
   ]
  },
  {
   "cell_type": "markdown",
   "metadata": {
    "id": "JlxaiBHBeFPR"
   },
   "source": [
    "Se cargan los datos del dataset."
   ]
  },
  {
   "cell_type": "code",
   "execution_count": 3,
   "metadata": {
    "colab": {
     "base_uri": "https://localhost:8080/",
     "height": 206
    },
    "id": "ebHpS9KjkhVA",
    "outputId": "fe6d63ce-51b0-4505-883c-733abb5561e9"
   },
   "outputs": [
    {
     "data": {
      "text/html": [
       "<div>\n",
       "<style scoped>\n",
       "    .dataframe tbody tr th:only-of-type {\n",
       "        vertical-align: middle;\n",
       "    }\n",
       "\n",
       "    .dataframe tbody tr th {\n",
       "        vertical-align: top;\n",
       "    }\n",
       "\n",
       "    .dataframe thead th {\n",
       "        text-align: right;\n",
       "    }\n",
       "</style>\n",
       "<table border=\"1\" class=\"dataframe\">\n",
       "  <thead>\n",
       "    <tr style=\"text-align: right;\">\n",
       "      <th></th>\n",
       "      <th>animal_name</th>\n",
       "      <th>hair</th>\n",
       "      <th>feathers</th>\n",
       "      <th>eggs</th>\n",
       "      <th>milk</th>\n",
       "      <th>airborne</th>\n",
       "      <th>aquatic</th>\n",
       "      <th>predator</th>\n",
       "      <th>toothed</th>\n",
       "      <th>backbone</th>\n",
       "      <th>breathes</th>\n",
       "      <th>venomous</th>\n",
       "      <th>fins</th>\n",
       "      <th>legs</th>\n",
       "      <th>tail</th>\n",
       "      <th>domestic</th>\n",
       "      <th>catsize</th>\n",
       "      <th>class_type</th>\n",
       "    </tr>\n",
       "  </thead>\n",
       "  <tbody>\n",
       "    <tr>\n",
       "      <th>0</th>\n",
       "      <td>aardvark</td>\n",
       "      <td>1</td>\n",
       "      <td>0</td>\n",
       "      <td>0</td>\n",
       "      <td>1</td>\n",
       "      <td>0</td>\n",
       "      <td>0</td>\n",
       "      <td>1</td>\n",
       "      <td>1</td>\n",
       "      <td>1</td>\n",
       "      <td>1</td>\n",
       "      <td>0</td>\n",
       "      <td>0</td>\n",
       "      <td>4</td>\n",
       "      <td>0</td>\n",
       "      <td>0</td>\n",
       "      <td>1</td>\n",
       "      <td>1</td>\n",
       "    </tr>\n",
       "    <tr>\n",
       "      <th>1</th>\n",
       "      <td>antelope</td>\n",
       "      <td>1</td>\n",
       "      <td>0</td>\n",
       "      <td>0</td>\n",
       "      <td>1</td>\n",
       "      <td>0</td>\n",
       "      <td>0</td>\n",
       "      <td>0</td>\n",
       "      <td>1</td>\n",
       "      <td>1</td>\n",
       "      <td>1</td>\n",
       "      <td>0</td>\n",
       "      <td>0</td>\n",
       "      <td>4</td>\n",
       "      <td>1</td>\n",
       "      <td>0</td>\n",
       "      <td>1</td>\n",
       "      <td>1</td>\n",
       "    </tr>\n",
       "    <tr>\n",
       "      <th>2</th>\n",
       "      <td>bass</td>\n",
       "      <td>0</td>\n",
       "      <td>0</td>\n",
       "      <td>1</td>\n",
       "      <td>0</td>\n",
       "      <td>0</td>\n",
       "      <td>1</td>\n",
       "      <td>1</td>\n",
       "      <td>1</td>\n",
       "      <td>1</td>\n",
       "      <td>0</td>\n",
       "      <td>0</td>\n",
       "      <td>1</td>\n",
       "      <td>0</td>\n",
       "      <td>1</td>\n",
       "      <td>0</td>\n",
       "      <td>0</td>\n",
       "      <td>4</td>\n",
       "    </tr>\n",
       "    <tr>\n",
       "      <th>3</th>\n",
       "      <td>bear</td>\n",
       "      <td>1</td>\n",
       "      <td>0</td>\n",
       "      <td>0</td>\n",
       "      <td>1</td>\n",
       "      <td>0</td>\n",
       "      <td>0</td>\n",
       "      <td>1</td>\n",
       "      <td>1</td>\n",
       "      <td>1</td>\n",
       "      <td>1</td>\n",
       "      <td>0</td>\n",
       "      <td>0</td>\n",
       "      <td>4</td>\n",
       "      <td>0</td>\n",
       "      <td>0</td>\n",
       "      <td>1</td>\n",
       "      <td>1</td>\n",
       "    </tr>\n",
       "    <tr>\n",
       "      <th>4</th>\n",
       "      <td>boar</td>\n",
       "      <td>1</td>\n",
       "      <td>0</td>\n",
       "      <td>0</td>\n",
       "      <td>1</td>\n",
       "      <td>0</td>\n",
       "      <td>0</td>\n",
       "      <td>1</td>\n",
       "      <td>1</td>\n",
       "      <td>1</td>\n",
       "      <td>1</td>\n",
       "      <td>0</td>\n",
       "      <td>0</td>\n",
       "      <td>4</td>\n",
       "      <td>1</td>\n",
       "      <td>0</td>\n",
       "      <td>1</td>\n",
       "      <td>1</td>\n",
       "    </tr>\n",
       "  </tbody>\n",
       "</table>\n",
       "</div>"
      ],
      "text/plain": [
       "  animal_name  hair  feathers  eggs  milk  airborne  aquatic  predator  \\\n",
       "0    aardvark     1         0     0     1         0        0         1   \n",
       "1    antelope     1         0     0     1         0        0         0   \n",
       "2        bass     0         0     1     0         0        1         1   \n",
       "3        bear     1         0     0     1         0        0         1   \n",
       "4        boar     1         0     0     1         0        0         1   \n",
       "\n",
       "   toothed  backbone  breathes  venomous  fins  legs  tail  domestic  catsize  \\\n",
       "0        1         1         1         0     0     4     0         0        1   \n",
       "1        1         1         1         0     0     4     1         0        1   \n",
       "2        1         1         0         0     1     0     1         0        0   \n",
       "3        1         1         1         0     0     4     0         0        1   \n",
       "4        1         1         1         0     0     4     1         0        1   \n",
       "\n",
       "   class_type  \n",
       "0           1  \n",
       "1           1  \n",
       "2           4  \n",
       "3           1  \n",
       "4           1  "
      ]
     },
     "execution_count": 3,
     "metadata": {},
     "output_type": "execute_result"
    }
   ],
   "source": [
    "df = pd.read_csv('zoo.csv')\n",
    "df.head()"
   ]
  },
  {
   "cell_type": "markdown",
   "metadata": {
    "id": "h_Slf89vb74X"
   },
   "source": [
    "Función para dividir el datasaet en subconjuntos."
   ]
  },
  {
   "cell_type": "code",
   "execution_count": 4,
   "metadata": {
    "id": "-Ngtvab6iN5A"
   },
   "outputs": [],
   "source": [
    "def validate(partitions: tuple[int, ...], X = np.array, Y = np.array):\n",
    "  assert type(partitions) == tuple, 'Partitions must be a tuple of ints'\n",
    "  assert sum(partitions) == 100, 'Sum of paritions must be 100'\n",
    "  assert type(X) == np.ndarray, 'X must be a NDArray'\n",
    "  assert type(Y) == np.ndarray, 'X must be a NDArray'\n",
    "  assert X.shape[0] == Y.shape[0], f'X and Y must have the same dimension'\n",
    "\n",
    "def split_sequencial (partitions: tuple[int, ...], X = np.array, Y = np.array):\n",
    "  validate(partitions, X, Y)\n",
    "\n",
    "  length = X.shape[0]\n",
    "  start_index = 0\n",
    "  for partition in partitions:\n",
    "    step = round(partition / 100 * length)\n",
    "    end_index = start_index + step\n",
    "    yield X[start_index:end_index]\n",
    "    yield Y[start_index:end_index]\n",
    "    start_index = end_index\n",
    "    start_index = end_index"
   ]
  },
  {
   "cell_type": "markdown",
   "metadata": {
    "id": "iPnBasrwhnJo"
   },
   "source": [
    "Se usa label encoding para el campo `animal_name` y se estandarizan los valores en X una vez se han apilado. Finalmente se divide el conjunto en conjuntos de entrenamiento y prueba."
   ]
  },
  {
   "cell_type": "code",
   "execution_count": 5,
   "metadata": {
    "id": "7enRiC9mmtP7"
   },
   "outputs": [],
   "source": [
    "X1 = LabelEncoder().fit_transform(df['animal_name'])\n",
    "X2 = df['hair'].values\n",
    "X3 = df['feathers'].values\n",
    "X4 = df['eggs'].values\n",
    "X5 = df['milk'].values\n",
    "X6 = df['airborne'].values\n",
    "X7 = df['aquatic'].values\n",
    "X8 = df['predator'].values\n",
    "X9 = df['toothed'].values\n",
    "X10 = df['backbone'].values\n",
    "X11 = df['breathes'].values\n",
    "X12 = df['venomous'].values\n",
    "X13 = df['fins'].values\n",
    "X14 = df['legs'].values\n",
    "X15 = df['tail'].values\n",
    "X16 = df['domestic'].values\n",
    "X17 = df['catsize'].values\n",
    "Y = np.vectorize(lambda x: x-1)(df['class_type'].values)\n",
    "X = np.column_stack((X1, X2, X3, X4, X5, X6, X7, X8, X9, X10, X11, X12, X13, X14, X15, X16, X17))\n",
    "ss = StandardScaler()\n",
    "X = ss.fit_transform(X)\n",
    "X_train, Y_train, X_test, Y_test = split_sequencial((80, 20), X, Y)"
   ]
  },
  {
   "cell_type": "markdown",
   "metadata": {},
   "source": [
    "Se define la clase para K Means."
   ]
  },
  {
   "cell_type": "code",
   "execution_count": 6,
   "metadata": {},
   "outputs": [],
   "source": [
    "def init_centroids(X, k):\n",
    "    # Selecciona k puntos aleatorios como centroides iniciales\n",
    "    indexes = np.random.choice(len(X), k, replace=False)\n",
    "    return X[indexes]\n",
    "\n",
    "def update_centroids(X, classifiers, k):\n",
    "    # Calcula nuevos centroides basados en los puntos asignados a cada cluster\n",
    "    #nuevos_centroides = np.vectorize(lambda i: X[asignaciones == i].mean(axis=0))(list(range(k)))\n",
    "    return np.array([X[classifiers == i].mean(axis=0) for i in range(k)])\n",
    "\n",
    "class K_means:\n",
    "    def __init__ (self, K, iters=100, tol=0.001):\n",
    "        self.K = K\n",
    "        self.iters = iters\n",
    "        self.tol = tol\n",
    "        self.centroids = None\n",
    "        self.classifiers = None\n",
    "        self.losses = []\n",
    "\n",
    "    def calculate_loss(self, X):\n",
    "        # Calcula la pérdida como la suma de los cuadrados de las distancias euclidianas\n",
    "        distances = np.linalg.norm(X - self.centroids[self.classifiers], axis=1)\n",
    "        return np.sum(distances**2)\n",
    "    \n",
    "    def fit (self, X):\n",
    "        self.centroids = init_centroids(X, self.K)\n",
    "        for _ in range(self.iters):\n",
    "            self.classifiers = self.predict(X)\n",
    "            old_centroid = self.centroids\n",
    "            self.centroids = update_centroids(X, self.classifiers, self.K)\n",
    "            self.losses.append(self.calculate_loss(X))\n",
    "            if np.linalg.norm(self.centroids - old_centroid) < self.tol:\n",
    "                break\n",
    "\n",
    "    def predict (self, X):\n",
    "        # Asigna cada nuevo punto al cluster más cercano\n",
    "        distances = np.linalg.norm(X[:, np.newaxis] - self.centroids, axis=2)\n",
    "        return np.argmin(distances, axis=1)"
   ]
  },
  {
   "cell_type": "markdown",
   "metadata": {},
   "source": [
    "Se entrenan 50 modelos de forma simultanea debido a su corto tiempo de entrenamiento y que con aleatorización algunos modelos inician con mejores centroides."
   ]
  },
  {
   "cell_type": "code",
   "execution_count": 181,
   "metadata": {},
   "outputs": [
    {
     "name": "stdout",
     "output_type": "stream",
     "text": [
      "CPU times: user 549 ms, sys: 10.8 ms, total: 559 ms\n",
      "Wall time: 557 ms\n"
     ]
    }
   ],
   "source": [
    "%%time\n",
    "models = [K_means(7, 1500, 0.01) for i in range(1000)]\n",
    "for model in models:\n",
    "    model.fit(X_train)\n",
    "\n",
    "model = max(models, key = lambda model: accuracy_score(Y_test, model.predict(X_test)))"
   ]
  },
  {
   "cell_type": "markdown",
   "metadata": {},
   "source": [
    "Se realiza la predicción de los datos de prueba y se obtiene los puntajes con las funciones:\n",
    "- `accuracy_score`\n",
    "- `precision_score`\n",
    "- `f1_score`\n",
    "- `recall_score` (Sensitivity)"
   ]
  },
  {
   "cell_type": "code",
   "execution_count": 182,
   "metadata": {},
   "outputs": [
    {
     "name": "stdout",
     "output_type": "stream",
     "text": [
      "Accuracy score with test dataset: 0.75\n",
      "Precision score (Macro) with test dataset: 0.5428571428571428\n",
      "Precision score (Micro) with test dataset: 0.75\n",
      "Precision score (Weighted) with test dataset: 0.635\n",
      "F1 score (Macro) with test dataset: 0.6031746031746031\n",
      "F1 score (Micro) with test dataset: 0.75\n",
      "F1 score (Weighted) with test dataset: 0.6777777777777778\n",
      "Sensitivity score (Macro) with test dataset: 0.7142857142857143\n",
      "Sensitivity score (Micro) with test dataset: 0.75\n",
      "Sensitivity score (Weighted) with test dataset: 0.75\n"
     ]
    }
   ],
   "source": [
    "predictions = model.predict(X_test)\n",
    "print(f'Accuracy score with test dataset: {accuracy_score(Y_test, predictions)}')\n",
    "print(f'Precision score (Macro) with test dataset: {precision_score(Y_test, predictions, average=\"macro\", zero_division=0)}')\n",
    "print(f'Precision score (Micro) with test dataset: {precision_score(Y_test, predictions, average=\"micro\", zero_division=0)}')\n",
    "print(f'Precision score (Weighted) with test dataset: {precision_score(Y_test, predictions, average=\"weighted\", zero_division=0)}')\n",
    "print(f'F1 score (Macro) with test dataset: {f1_score(Y_test, predictions, average=\"macro\")}')\n",
    "print(f'F1 score (Micro) with test dataset: {f1_score(Y_test, predictions, average=\"micro\")}')\n",
    "print(f'F1 score (Weighted) with test dataset: {f1_score(Y_test, predictions, average=\"weighted\")}')\n",
    "print(f'Sensitivity score (Macro) with test dataset: {recall_score(Y_test, predictions, average=\"macro\", zero_division=0)}')\n",
    "print(f'Sensitivity score (Micro) with test dataset: {recall_score(Y_test, predictions, average=\"micro\", zero_division=0)}')\n",
    "print(f'Sensitivity score (Weighted) with test dataset: {recall_score(Y_test, predictions, average=\"weighted\", zero_division=0)}')"
   ]
  },
  {
   "cell_type": "markdown",
   "metadata": {},
   "source": [
    "Se gráfica la perdida conforme a las iteraciones."
   ]
  },
  {
   "cell_type": "code",
   "execution_count": 184,
   "metadata": {},
   "outputs": [
    {
     "data": {
      "image/png": "[encoded data removed]",
      "text/plain": [
       "<Figure size 640x480 with 1 Axes>"
      ]
     },
     "metadata": {},
     "output_type": "display_data"
    }
   ],
   "source": [
    "plt.plot(model.losses)\n",
    "plt.xlabel(\"Iteraciones\")\n",
    "plt.ylabel(\"Perdida\")\n",
    "plt.savefig('./KMeans-zoo-loss.png')\n",
    "plt.show()"
   ]
  }
 ],
 "metadata": {
  "colab": {
   "provenance": []
  },
  "kernelspec": {
   "display_name": "Python 3 (ipykernel)",
   "language": "python",
   "name": "python3"
  },
  "language_info": {
   "codemirror_mode": {
    "name": "ipython",
    "version": 3
   },
   "file_extension": ".py",
   "mimetype": "text/x-python",
   "name": "python",
   "nbconvert_exporter": "python",
   "pygments_lexer": "ipython3",
   "version": "3.10.10"
  }
 },
 "nbformat": 4,
 "nbformat_minor": 4
}
